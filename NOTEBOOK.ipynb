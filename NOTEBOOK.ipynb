{
 "cells": [
  {
   "attachments": {},
   "cell_type": "markdown",
   "metadata": {},
   "source": [
    "# Packages\n"
   ]
  },
  {
   "cell_type": "code",
   "execution_count": 9,
   "metadata": {},
   "outputs": [],
   "source": [
    "import spacy\n",
    "import spotipy\n",
    "from spotipy.oauth2 import SpotifyClientCredentials\n",
    "import lyricsgenius\n",
    "from tqdm import tqdm\n",
    "import json\n",
    "import duden\n",
    "import time\n",
    "from collections import Counter\n",
    "import pandas as pd\n",
    "import csv\n"
   ]
  },
  {
   "attachments": {},
   "cell_type": "markdown",
   "metadata": {},
   "source": [
    "# Get Lyrics\n"
   ]
  },
  {
   "attachments": {},
   "cell_type": "markdown",
   "metadata": {},
   "source": [
    "- API Schlüssel und Zugangsdaten einsetzen\n",
    "- Playlist IDs von Spotify suchen \n",
    "- Jeder Track der Playlist wird auf LyricsGenius gesucht\n",
    "- Sollte zu einem Song kein Lyrics gefunden werden, wird die Anzahl hochgezählt\n",
    "- Es wird eine JSON Datei gebildet"
   ]
  },
  {
   "cell_type": "code",
   "execution_count": 6,
   "metadata": {},
   "outputs": [],
   "source": [
    "SPOTIPY_CLIENT_ID = '46da6046625f409cb53ab06bf807861d'\n",
    "SPOTIPY_CLIENT_SECRET = '00efb0ab68db4f1eaf27ec53a4c1e068'\n",
    "GENIUS_ACCESS_TOKEN = 'OsBvEsJ_OLKYR42CJoaA_N97GNOS44XXFk4KPPcLtCYnWmDwnnzY2RpcG_SdG25a'"
   ]
  },
  {
   "attachments": {},
   "cell_type": "markdown",
   "metadata": {},
   "source": [
    "Ausführen von getlyrics.py"
   ]
  },
  {
   "attachments": {},
   "cell_type": "markdown",
   "metadata": {},
   "source": [
    "## Analysis"
   ]
  },
  {
   "cell_type": "code",
   "execution_count": 10,
   "metadata": {},
   "outputs": [],
   "source": [
    "with open(\"./all_songs_neu2.json\") as f:\n",
    "    songs_dict = json.load(f)\n",
    "\n",
    "encoded= json.dumps (songs_dict, ensure_ascii=True)\n",
    "songs_dict_0 =json.loads (encoded)"
   ]
  },
  {
   "attachments": {},
   "cell_type": "markdown",
   "metadata": {},
   "source": [
    "1. Spacy"
   ]
  },
  {
   "attachments": {},
   "cell_type": "markdown",
   "metadata": {},
   "source": [
    "Ausführen von cyspa.py"
   ]
  },
  {
   "attachments": {},
   "cell_type": "markdown",
   "metadata": {},
   "source": [
    "Hier werden alle Nomen ausgegeben in einer csv datei: SongID, Nomen, Geschlecht, Release Year, Artist"
   ]
  },
  {
   "cell_type": "code",
   "execution_count": 11,
   "metadata": {},
   "outputs": [
    {
     "name": "stderr",
     "output_type": "stream",
     "text": [
      " 11%|█▏        | 10/88 [00:00<00:04, 16.93it/s]"
     ]
    },
    {
     "name": "stdout",
     "output_type": "stream",
     "text": [
      "Error at Song 6 with word jеdem.\n",
      "Error at Song 6 with word wеrden.\n"
     ]
    },
    {
     "name": "stderr",
     "output_type": "stream",
     "text": [
      " 42%|████▏     | 37/88 [00:01<00:02, 21.41it/s]"
     ]
    },
    {
     "name": "stdout",
     "output_type": "stream",
     "text": [
      "Error at Song 34 with word siе.\n"
     ]
    },
    {
     "name": "stderr",
     "output_type": "stream",
     "text": [
      " 68%|██████▊   | 60/88 [00:02<00:01, 24.39it/s]"
     ]
    },
    {
     "name": "stdout",
     "output_type": "stream",
     "text": [
      "Error at Song 54 with word Tochtеr.\n"
     ]
    },
    {
     "name": "stderr",
     "output_type": "stream",
     "text": [
      " 82%|████████▏ | 72/88 [00:03<00:00, 20.83it/s]"
     ]
    },
    {
     "name": "stdout",
     "output_type": "stream",
     "text": [
      "Error at Song 67 with word Совета.\n",
      "Error at Song 67 with word против.\n"
     ]
    },
    {
     "name": "stderr",
     "output_type": "stream",
     "text": [
      " 92%|█████████▏| 81/88 [00:03<00:00, 21.70it/s]"
     ]
    },
    {
     "name": "stdout",
     "output_type": "stream",
     "text": [
      "Error at Song 78 with word hеute.\n"
     ]
    },
    {
     "name": "stderr",
     "output_type": "stream",
     "text": [
      "100%|██████████| 88/88 [00:04<00:00, 20.78it/s]\n"
     ]
    }
   ],
   "source": [
    "#NEU #Spacy muss gedownloaded werden mit : pip install -U pip setuptools wheel   und    pip install spacy \n",
    "#de_core_news_sm-3.5.0-py3-none-any.whl (muss gedownloaded werden -> https://spacy.io/models/de/)\n",
    "#de_core_news_lg-3.5.0-py3-none-any.whl\n",
    "#de_dep_news_trf-3.5.0-py3-none-any.whl\n",
    "import csv \n",
    "\n",
    "\n",
    "\n",
    "nlp2 = spacy.load (\"de_core_news_lg\")\n",
    "playlist=\"Spotify\"\n",
    "song_id=0\n",
    "\n",
    "with open ('Nomen_csv.csv','w', newline ='') as nomen_file:\n",
    "    writer = csv.writer(nomen_file, delimiter=';', lineterminator='\\n')\n",
    "    writer.writerow ([\"ID\",\"Noun\", \"Gender\", \"Year\", \"Artist\"])    \n",
    "\n",
    "    for song_id in tqdm(range(len(songs_dict_0[playlist]))):\n",
    "\n",
    "        lyrics_from_song = songs_dict_0[playlist][str(song_id)][\"lyrics\"] #hier wird aus dem der Datei mit allen Songtexten nur das Lyrics abgefragt\n",
    "        year_from_song = songs_dict_0[playlist][str(song_id)][\"release_year\"]\n",
    "        artist_song=songs_dict_0[playlist][str(song_id)][\"artist_name\"]\n",
    "        doc3 = nlp2 (lyrics_from_song)\n",
    "\n",
    "        for token in doc3: \n",
    "            if token.pos_ == \"NOUN\":\n",
    "                    try:\n",
    "                        row= ([song_id, token.text,token.morph.get('Gender'), year_from_song, artist_song])\n",
    "                        writer.writerow(row)\n",
    "                    except:\n",
    "                        print(f\"Error at Song {song_id} with word {token.text}.\")\n",
    "                        pass\n",
    "            else:\n",
    "                pass\n"
   ]
  },
  {
   "attachments": {},
   "cell_type": "markdown",
   "metadata": {},
   "source": [
    "TODO :\n",
    "- Segementierung mit SPACY"
   ]
  },
  {
   "cell_type": "code",
   "execution_count": null,
   "metadata": {},
   "outputs": [],
   "source": [
    "##csv datei sortieren (funktioniert noch nicht)\n",
    "\n",
    "import pandas as pd\n",
    "\n",
    "df=pd.read_csv('Nomen_csv.csv',encoding ='ISO-8859-1')\n",
    "sorted_df=df.sort_values (by=['2'])\n",
    "sorted_df.to_csv('sorted_filename.csv', index=False)"
   ]
  },
  {
   "attachments": {},
   "cell_type": "markdown",
   "metadata": {},
   "source": [
    "NOMEN"
   ]
  },
  {
   "cell_type": "code",
   "execution_count": 24,
   "metadata": {},
   "outputs": [],
   "source": [
    "scrape_data = False # decide, whether to scrape full data again or read an exisiting json file."
   ]
  },
  {
   "attachments": {},
   "cell_type": "markdown",
   "metadata": {},
   "source": [
    "### Mit Genderliste vergleichen"
   ]
  },
  {
   "attachments": {},
   "cell_type": "markdown",
   "metadata": {},
   "source": [
    "TODO:\n",
    "- mit Genderliste Vergleichen\n",
    "- mit Ausdrucks-Worliste vergleichen\n",
    "- mit Frau/Mann List vergleichen"
   ]
  },
  {
   "cell_type": "code",
   "execution_count": null,
   "metadata": {},
   "outputs": [],
   "source": [
    "### Im folgenden erfolgt die Abfrage mit der genderneutralen Wortliste und der Nomenliste\n",
    "import pandas as pd\n",
    "\n",
    "gender_neu = pd.read_csv(\"./gender_neu_Nomen.csv\",sep=\";\",header=None,encoding=\"utf8\")\n",
    "gender_neu = gender_neu.iloc[:, 0]\n",
    "gender_neu.columns = [\"Wort\"]\n",
    "gender_neu = list(gender_neu)\n"
   ]
  },
  {
   "cell_type": "code",
   "execution_count": null,
   "metadata": {},
   "outputs": [],
   "source": [
    "pd.read_csv('Nomen_csv.csv', sep=';', encoding ='ISO-8859-1', usecols= [3])"
   ]
  },
  {
   "cell_type": "code",
   "execution_count": 10,
   "metadata": {},
   "outputs": [],
   "source": [
    "complete_df = pd.DataFrame(columns=[\"Wort\",\"neutral\", \"Jahr\"])\n",
    "tmp = []\n",
    "playlist='Prototyp'\n",
    "for id in nomen_sortiert[playlist].keys():\n",
    "    for g in nomen_sortiert[playlist][id].keys(): # geschlecht\n",
    "        w = nomen_sortiert[playlist][id][g] # wort\n",
    "        is_gender_neutral = True if w in gender_neu else False\n",
    "\n",
    "        complete_df.loc[len(complete_df)] = [g, w, is_gender_neutral]\n",
    "        tmp.append(g)"
   ]
  },
  {
   "cell_type": "code",
   "execution_count": 11,
   "metadata": {},
   "outputs": [
    {
     "data": {
      "text/plain": [
       "Counter({'Maskuline Nomen': 1195,\n",
       "         'Feminine Nomen': 1092,\n",
       "         'Neutrale Nomen': 711})"
      ]
     },
     "execution_count": 11,
     "metadata": {},
     "output_type": "execute_result"
    }
   ],
   "source": [
    "freq = Counter(tmp)\n",
    "freq"
   ]
  },
  {
   "cell_type": "code",
   "execution_count": 14,
   "metadata": {},
   "outputs": [
    {
     "data": {
      "text/html": [
       "<div>\n",
       "<style scoped>\n",
       "    .dataframe tbody tr th:only-of-type {\n",
       "        vertical-align: middle;\n",
       "    }\n",
       "\n",
       "    .dataframe tbody tr th {\n",
       "        vertical-align: top;\n",
       "    }\n",
       "\n",
       "    .dataframe thead th {\n",
       "        text-align: right;\n",
       "    }\n",
       "</style>\n",
       "<table border=\"1\" class=\"dataframe\">\n",
       "  <thead>\n",
       "    <tr style=\"text-align: right;\">\n",
       "      <th></th>\n",
       "      <th>Geschlecht</th>\n",
       "      <th>Wort</th>\n",
       "      <th>neutral</th>\n",
       "    </tr>\n",
       "  </thead>\n",
       "  <tbody>\n",
       "    <tr>\n",
       "      <th>0</th>\n",
       "      <td>Feminine Nomen</td>\n",
       "      <td>Kneipe</td>\n",
       "      <td>False</td>\n",
       "    </tr>\n",
       "    <tr>\n",
       "      <th>1</th>\n",
       "      <td>Feminine Nomen</td>\n",
       "      <td>Ecke</td>\n",
       "      <td>False</td>\n",
       "    </tr>\n",
       "    <tr>\n",
       "      <th>2</th>\n",
       "      <td>Maskuline Nomen</td>\n",
       "      <td>Abend</td>\n",
       "      <td>False</td>\n",
       "    </tr>\n",
       "    <tr>\n",
       "      <th>3</th>\n",
       "      <td>Feminine Nomen</td>\n",
       "      <td>Liebe</td>\n",
       "      <td>False</td>\n",
       "    </tr>\n",
       "    <tr>\n",
       "      <th>4</th>\n",
       "      <td>Feminine Nomen</td>\n",
       "      <td>Freundschaft</td>\n",
       "      <td>False</td>\n",
       "    </tr>\n",
       "  </tbody>\n",
       "</table>\n",
       "</div>"
      ],
      "text/plain": [
       "        Geschlecht          Wort  neutral\n",
       "0   Feminine Nomen        Kneipe    False\n",
       "1   Feminine Nomen          Ecke    False\n",
       "2  Maskuline Nomen         Abend    False\n",
       "3   Feminine Nomen         Liebe    False\n",
       "4   Feminine Nomen  Freundschaft    False"
      ]
     },
     "execution_count": 14,
     "metadata": {},
     "output_type": "execute_result"
    }
   ],
   "source": [
    "complete_df.head()"
   ]
  },
  {
   "cell_type": "code",
   "execution_count": 15,
   "metadata": {},
   "outputs": [],
   "source": [
    "complete_df.to_json(\"./test.json\")"
   ]
  },
  {
   "cell_type": "code",
   "execution_count": null,
   "metadata": {},
   "outputs": [],
   "source": [
    "complete_df.loc[complete_df[\"neutral\"] == True, :]\n",
    "complete_df"
   ]
  },
  {
   "cell_type": "code",
   "execution_count": 94,
   "metadata": {},
   "outputs": [],
   "source": [
    "with open('Example.csv', 'w', newline = '') as csvfile:\n",
    "    my_writer = csv.writer(csvfile, delimiter = ' ')\n",
    "    my_writer.writerow(complete_df)"
   ]
  },
  {
   "cell_type": "code",
   "execution_count": 7,
   "metadata": {},
   "outputs": [
    {
     "name": "stdout",
     "output_type": "stream",
     "text": [
      "Die ganze Stadt ist ein Startup: Shenzhen ist das Silicon Valley für Hardware-Firmen\n",
      "Die DET ['Fem']\n",
      "ganze ADJ ['Fem']\n",
      "Stadt NOUN ['Fem']\n",
      "ist AUX []\n",
      "ein DET ['Neut']\n",
      "Startup NOUN ['Neut']\n",
      ": PUNCT []\n",
      "Shenzhen PROPN ['Neut']\n",
      "ist AUX []\n",
      "das DET ['Neut']\n",
      "Silicon PROPN ['Neut']\n",
      "Valley PROPN ['Neut']\n",
      "für ADP []\n",
      "Hardware-Firmen NOUN ['Fem']\n"
     ]
    }
   ],
   "source": [
    "import spacy\n",
    "from spacy.lang.de.examples import sentences \n",
    "\n",
    "nlp = spacy.load(\"de_core_news_lg\")\n",
    "doc = nlp(sentences[0])\n",
    "print(doc.text)\n",
    "for token in doc:\n",
    "    print(token.text, token.pos_, )"
   ]
  }
 ],
 "metadata": {
  "kernelspec": {
   "display_name": "Python 3",
   "language": "python",
   "name": "python3"
  },
  "language_info": {
   "codemirror_mode": {
    "name": "ipython",
    "version": 3
   },
   "file_extension": ".py",
   "mimetype": "text/x-python",
   "name": "python",
   "nbconvert_exporter": "python",
   "pygments_lexer": "ipython3",
   "version": "3.11.4"
  },
  "orig_nbformat": 4
 },
 "nbformat": 4,
 "nbformat_minor": 2
}
