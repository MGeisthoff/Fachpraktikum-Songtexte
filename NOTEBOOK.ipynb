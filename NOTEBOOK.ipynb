{
 "cells": [
  {
   "attachments": {},
   "cell_type": "markdown",
   "metadata": {},
   "source": [
    "# Packages\n"
   ]
  },
  {
   "cell_type": "code",
   "execution_count": 22,
   "metadata": {},
   "outputs": [],
   "source": [
    "import spacy\n",
    "import spotipy\n",
    "from spotipy.oauth2 import SpotifyClientCredentials\n",
    "import lyricsgenius\n",
    "from tqdm import tqdm\n",
    "import json\n",
    "import duden\n",
    "import time\n",
    "from collections import Counter\n",
    "import pandas as pd\n",
    "import csv\n"
   ]
  },
  {
   "attachments": {},
   "cell_type": "markdown",
   "metadata": {},
   "source": [
    "# Get Lyrics\n"
   ]
  },
  {
   "attachments": {},
   "cell_type": "markdown",
   "metadata": {},
   "source": [
    "- API Schlüssel und Zugangsdaten einsetzen\n",
    "- Playlist IDs von Spotify suchen \n",
    "- Jeder Track der Playlist wird auf LyricsGenius gesucht\n",
    "- Sollte zu einem Song kein Lyrics gefunden werden, wird die Anzahl hochgezählt\n",
    "- Es wird eine JSON Datei gebildet"
   ]
  },
  {
   "cell_type": "code",
   "execution_count": 6,
   "metadata": {},
   "outputs": [],
   "source": [
    "SPOTIPY_CLIENT_ID = '46da6046625f409cb53ab06bf807861d'\n",
    "SPOTIPY_CLIENT_SECRET = '00efb0ab68db4f1eaf27ec53a4c1e068'\n",
    "GENIUS_ACCESS_TOKEN = 'OsBvEsJ_OLKYR42CJoaA_N97GNOS44XXFk4KPPcLtCYnWmDwnnzY2RpcG_SdG25a'"
   ]
  },
  {
   "cell_type": "code",
   "execution_count": null,
   "metadata": {},
   "outputs": [],
   "source": [
    "playlist_id = '2siI2ILJEPr88yibWLgQQl'  #Playlist: \"Deutsche Songs die jeder kennt ;)\"\n",
    "playlist_id = '37i9dQZF1DWTWEW1zqSeEj' #Playlist: Zurück in die 90er\n",
    "playlist_id ='56r5qRUv3jSxADdmBkhcz7' # Playlist: Top Hits of 2022"
   ]
  },
  {
   "attachments": {},
   "cell_type": "markdown",
   "metadata": {},
   "source": [
    "Ausführen von getlyrics.py"
   ]
  },
  {
   "attachments": {},
   "cell_type": "markdown",
   "metadata": {},
   "source": [
    "## Analysis"
   ]
  },
  {
   "cell_type": "code",
   "execution_count": 43,
   "metadata": {},
   "outputs": [],
   "source": [
    "with open(\"./all_songs_neu.json\") as f:\n",
    "    songs_dict = json.load(f)"
   ]
  },
  {
   "attachments": {},
   "cell_type": "markdown",
   "metadata": {},
   "source": [
    "1. Spacy"
   ]
  },
  {
   "attachments": {},
   "cell_type": "markdown",
   "metadata": {},
   "source": [
    "Ausführen von cyspa.py"
   ]
  },
  {
   "attachments": {},
   "cell_type": "markdown",
   "metadata": {},
   "source": [
    "Durchlaufzeit war hier bei 3 Playlisten 1,5h"
   ]
  },
  {
   "cell_type": "code",
   "execution_count": 44,
   "metadata": {},
   "outputs": [
    {
     "name": "stderr",
     "output_type": "stream",
     "text": [
      "100%|██████████| 88/88 [00:10<00:00,  8.33it/s]\n"
     ]
    }
   ],
   "source": [
    "#NEU #Spacy muss gedownloaded werden mit : pip install -U pip setuptools wheel   und    pip install spacy \n",
    "#de_core_news_sm-3.5.0-py3-none-any.whl (muss gedownloaded werden -> https://spacy.io/models/de/)\n",
    "#de_core_news_lg-3.5.0-py3-none-any.whl\n",
    "#de_dep_news_trf-3.5.0-py3-none-any.whl\n",
    "\n",
    "nlp2 = spacy.load (\"de_core_news_lg\")\n",
    "\n",
    "list_of_nouns, list_of_pronouns = [],[]\n",
    "playlist=\"Spotify\"\n",
    "\n",
    "for song_id in tqdm(range(len(songs_dict[playlist]))):\n",
    "\n",
    "    lyrics_from_song = songs_dict[playlist][str(song_id)][\"lyrics\"] #hier wird aus dem der Datei mit allen Songtexten nur das Lyrics abgefragt\n",
    "    doc3 = nlp2 (lyrics_from_song)\n",
    "\n",
    "        # Ausgabe lediglich von Wörtern, die Nomen und Pronomen sind:\n",
    "    for token in doc3: \n",
    "        if token.pos_ == \"NOUN\":\n",
    "            list_of_nouns.append(token.text)\n",
    "        elif token.pos_ == \"PRON\":\n",
    "            list_of_pronouns.append(token.text)\n",
    "        else:\n",
    "            pass\n"
   ]
  },
  {
   "attachments": {},
   "cell_type": "markdown",
   "metadata": {},
   "source": [
    "In list_of_prnouns sind alle Pronomen der Playlist abgespeichert\n",
    "In list_of_nouns sind alle Nomen der Playlist abgespeichert.\n",
    "\n",
    "TODO: hier muss aber jedes Wort noch mit dem Jahr verknüpft werden oder mit dem Song!"
   ]
  },
  {
   "cell_type": "code",
   "execution_count": 53,
   "metadata": {},
   "outputs": [
    {
     "data": {
      "text/plain": [
       "6518"
      ]
     },
     "execution_count": 53,
     "metadata": {},
     "output_type": "execute_result"
    }
   ],
   "source": [
    "len(list_of_nouns)"
   ]
  },
  {
   "cell_type": "code",
   "execution_count": 51,
   "metadata": {},
   "outputs": [],
   "source": [
    "## die Pronomen und Nomen in einzelnen dict ablegen \n",
    "lon_dict = {name: list_ for name, list_ in zip(songs_dict[playlist].keys(), list_of_nouns)}\n",
    "lop_dict = {name: list_ for name, list_ in zip(songs_dict[playlist].keys(), list_of_pronouns)}"
   ]
  },
  {
   "cell_type": "code",
   "execution_count": 52,
   "metadata": {},
   "outputs": [
    {
     "data": {
      "text/plain": [
       "{'0': 'Freunde',\n",
       " '1': 'Jahren',\n",
       " '2': 'Kneipe',\n",
       " '3': 'Ecke',\n",
       " '4': 'Bar',\n",
       " '5': 'Neunzigern',\n",
       " '6': 'Abend',\n",
       " '7': 'Liebe',\n",
       " '8': 'Freundschaft',\n",
       " '9': 'Refrain',\n",
       " '10': 'Gläser',\n",
       " '11': 'Stadt',\n",
       " '12': 'Leben',\n",
       " '13': 'Wand',\n",
       " '14': 'Momente',\n",
       " '15': 'Dorf',\n",
       " '16': 'Tresen',\n",
       " '17': 'Spaß',\n",
       " '18': 'Leben',\n",
       " '19': 'Refrain',\n",
       " '20': 'Kneipe',\n",
       " '21': 'Ecke',\n",
       " '22': 'Licht',\n",
       " '23': 'Schnaps',\n",
       " '24': 'Kippen',\n",
       " '25': 'Kneipe',\n",
       " '26': 'Ecke',\n",
       " '27': 'Licht',\n",
       " '28': 'Licht',\n",
       " '29': 'Refrain',\n",
       " '30': 'Uhr',\n",
       " '31': 'LebenEmbed',\n",
       " '32': 'ContributorsEinmal',\n",
       " '33': 'Welt',\n",
       " '34': 'Songtext',\n",
       " '35': 'Welt',\n",
       " '36': 'Intro',\n",
       " '37': 'One',\n",
       " '38': 'One',\n",
       " '39': 'Baby',\n",
       " '40': 'Sorgen',\n",
       " '41': 'Geld',\n",
       " '42': 'Hand',\n",
       " '43': 'Welt',\n",
       " '44': 'Welt',\n",
       " '45': 'Part',\n",
       " '46': 'Ost',\n",
       " '47': 'Jackpot',\n",
       " '48': 'Bord',\n",
       " '49': 'Tag',\n",
       " '50': 'Laufe',\n",
       " '51': 'Park',\n",
       " '52': 'Geld',\n",
       " '53': 'Brot',\n",
       " '54': 'Kaviar',\n",
       " '55': 'Champagner',\n",
       " '56': 'Schampus',\n",
       " '57': 'Baby',\n",
       " '58': 'erfüll',\n",
       " '59': 'Wunsch',\n",
       " '60': 'Handkuss',\n",
       " '61': 'Frühstück',\n",
       " '62': 'Joggen',\n",
       " '63': 'Ganze',\n",
       " '64': 'L.A',\n",
       " '65': 'Zahnbürste',\n",
       " '66': 'Ort',\n",
       " '67': 'Babe',\n",
       " '68': 'Hand',\n",
       " '69': 'Safe',\n",
       " '70': 'Wand',\n",
       " '71': 'Leben',\n",
       " '72': 'Baby',\n",
       " '73': 'Sorgen',\n",
       " '74': 'Geld',\n",
       " '75': 'Hand',\n",
       " '76': 'Welt',\n",
       " '77': 'Welt',\n",
       " '78': 'Kreditkarten',\n",
       " '79': 'Mietwagen',\n",
       " '80': 'Designerschuhe',\n",
       " '81': 'Lacoste',\n",
       " '82': 'Problem',\n",
       " '83': 'Schuhe',\n",
       " '84': 'Schloss',\n",
       " '85': 'Geld',\n",
       " '86': 'Pelz',\n",
       " '87': 'Welt'}"
      ]
     },
     "execution_count": 52,
     "metadata": {},
     "output_type": "execute_result"
    }
   ],
   "source": [
    "lon_dict"
   ]
  },
  {
   "attachments": {},
   "cell_type": "markdown",
   "metadata": {},
   "source": [
    "2. Daten sortieren\n",
    "\n"
   ]
  },
  {
   "attachments": {},
   "cell_type": "markdown",
   "metadata": {},
   "source": [
    "NOMEN"
   ]
  },
  {
   "attachments": {},
   "cell_type": "markdown",
   "metadata": {},
   "source": [
    "Json-Datei wird erstellt, um eine Liste mit allen Nomen und zugehörigen Artikeln zu bekommen. (Durchlaufzeit 28 min)"
   ]
  },
  {
   "cell_type": "code",
   "execution_count": 24,
   "metadata": {},
   "outputs": [],
   "source": [
    "scrape_data = False # decide, whether to scrape full data again or read an exisiting json file."
   ]
  },
  {
   "attachments": {},
   "cell_type": "markdown",
   "metadata": {},
   "source": [
    "Einzelne Json-Dateien für Nomen (m,w,n) erstellen."
   ]
  },
  {
   "attachments": {},
   "cell_type": "markdown",
   "metadata": {},
   "source": [
    "# Title tbd\n",
    "\n",
    "- TODO Sonderzeichen in strings?"
   ]
  },
  {
   "attachments": {},
   "cell_type": "markdown",
   "metadata": {},
   "source": [
    "### Read files"
   ]
  },
  {
   "cell_type": "code",
   "execution_count": 3,
   "metadata": {},
   "outputs": [],
   "source": [
    "### Im folgenden erfolgt die Abfrage mit der genderneutralen Wortliste und der Nomenliste\n",
    "\n",
    "\n",
    "gender_neu = pd.read_csv(\"./gender_neu_Nomen.csv\",sep=\";\",header=None,encoding=\"utf8\")\n",
    "gender_neu = gender_neu.iloc[:, 0]\n",
    "gender_neu.columns = [\"Wort\"]\n",
    "gender_neu = list(gender_neu)\n",
    "\n",
    "with open(\"./Nomen_sortiert.json\", \"r\") as f:\n",
    "    nomen_sortiert = json.load(f)"
   ]
  },
  {
   "cell_type": "code",
   "execution_count": 10,
   "metadata": {},
   "outputs": [],
   "source": [
    "complete_df = pd.DataFrame(columns=[\"Geschlecht\",\"Wort\",\"neutral\"])\n",
    "tmp = []\n",
    "playlist='Prototyp'\n",
    "for id in nomen_sortiert[playlist].keys():\n",
    "    for g in nomen_sortiert[playlist][id].keys(): # geschlecht\n",
    "        w = nomen_sortiert[playlist][id][g] # wort\n",
    "        is_gender_neutral = True if w in gender_neu else False\n",
    "\n",
    "        complete_df.loc[len(complete_df)] = [g, w, is_gender_neutral]\n",
    "        tmp.append(g)"
   ]
  },
  {
   "cell_type": "code",
   "execution_count": 11,
   "metadata": {},
   "outputs": [
    {
     "data": {
      "text/plain": [
       "Counter({'Maskuline Nomen': 1195,\n",
       "         'Feminine Nomen': 1092,\n",
       "         'Neutrale Nomen': 711})"
      ]
     },
     "execution_count": 11,
     "metadata": {},
     "output_type": "execute_result"
    }
   ],
   "source": [
    "freq = Counter(tmp)\n",
    "freq"
   ]
  },
  {
   "cell_type": "code",
   "execution_count": 14,
   "metadata": {},
   "outputs": [
    {
     "data": {
      "text/html": [
       "<div>\n",
       "<style scoped>\n",
       "    .dataframe tbody tr th:only-of-type {\n",
       "        vertical-align: middle;\n",
       "    }\n",
       "\n",
       "    .dataframe tbody tr th {\n",
       "        vertical-align: top;\n",
       "    }\n",
       "\n",
       "    .dataframe thead th {\n",
       "        text-align: right;\n",
       "    }\n",
       "</style>\n",
       "<table border=\"1\" class=\"dataframe\">\n",
       "  <thead>\n",
       "    <tr style=\"text-align: right;\">\n",
       "      <th></th>\n",
       "      <th>Geschlecht</th>\n",
       "      <th>Wort</th>\n",
       "      <th>neutral</th>\n",
       "    </tr>\n",
       "  </thead>\n",
       "  <tbody>\n",
       "    <tr>\n",
       "      <th>0</th>\n",
       "      <td>Feminine Nomen</td>\n",
       "      <td>Kneipe</td>\n",
       "      <td>False</td>\n",
       "    </tr>\n",
       "    <tr>\n",
       "      <th>1</th>\n",
       "      <td>Feminine Nomen</td>\n",
       "      <td>Ecke</td>\n",
       "      <td>False</td>\n",
       "    </tr>\n",
       "    <tr>\n",
       "      <th>2</th>\n",
       "      <td>Maskuline Nomen</td>\n",
       "      <td>Abend</td>\n",
       "      <td>False</td>\n",
       "    </tr>\n",
       "    <tr>\n",
       "      <th>3</th>\n",
       "      <td>Feminine Nomen</td>\n",
       "      <td>Liebe</td>\n",
       "      <td>False</td>\n",
       "    </tr>\n",
       "    <tr>\n",
       "      <th>4</th>\n",
       "      <td>Feminine Nomen</td>\n",
       "      <td>Freundschaft</td>\n",
       "      <td>False</td>\n",
       "    </tr>\n",
       "  </tbody>\n",
       "</table>\n",
       "</div>"
      ],
      "text/plain": [
       "        Geschlecht          Wort  neutral\n",
       "0   Feminine Nomen        Kneipe    False\n",
       "1   Feminine Nomen          Ecke    False\n",
       "2  Maskuline Nomen         Abend    False\n",
       "3   Feminine Nomen         Liebe    False\n",
       "4   Feminine Nomen  Freundschaft    False"
      ]
     },
     "execution_count": 14,
     "metadata": {},
     "output_type": "execute_result"
    }
   ],
   "source": [
    "complete_df.head()"
   ]
  },
  {
   "cell_type": "code",
   "execution_count": 15,
   "metadata": {},
   "outputs": [],
   "source": [
    "complete_df.to_json(\"./test.json\")"
   ]
  },
  {
   "cell_type": "code",
   "execution_count": null,
   "metadata": {},
   "outputs": [],
   "source": [
    "complete_df.loc[complete_df[\"neutral\"] == True, :]\n",
    "complete_df"
   ]
  },
  {
   "cell_type": "code",
   "execution_count": 94,
   "metadata": {},
   "outputs": [],
   "source": [
    "with open('Example.csv', 'w', newline = '') as csvfile:\n",
    "    my_writer = csv.writer(csvfile, delimiter = ' ')\n",
    "    my_writer.writerow(complete_df)"
   ]
  },
  {
   "attachments": {},
   "cell_type": "markdown",
   "metadata": {},
   "source": [
    "# Pronomen"
   ]
  },
  {
   "cell_type": "code",
   "execution_count": null,
   "metadata": {},
   "outputs": [],
   "source": [
    "### Wird bestimmt auch nicht mehr benötigt!!! \n",
    "\n",
    "\n",
    "result_pronomen ={}\n",
    "\n",
    "id=0\n",
    "for playlist in lop_dict.keys():\n",
    "    pronomen_playlist = {}\n",
    "    for word in tqdm(lop_dict[playlist]):\n",
    "        #männlich\n",
    "        if word.lower() in [\"er\", \"ihn\", \"derjenige\", \"derselbe\",\"wer\", \"wen\", \"wem\"]:\n",
    "            pronomen_playlist[str(id)]={\"Maskuline Pronomen\": word}\n",
    "            id +=1\n",
    "        \n",
    "        #weiblich\n",
    "        if word.lower() in [\"sie\", \"ihre\", \"dieselbe\"]:\n",
    "            pronomen_playlist[str(id)]={\"Feminine Pronomen\": word}\n",
    "            id +=1\n",
    "      \n",
    "    result_pronomen[playlist]=pronomen_playlist\n",
    "with open('Pronomen_sortiert.json', 'w') as fp:\n",
    "    json.dump(result_pronomen, fp, indent=2)\n"
   ]
  },
  {
   "cell_type": "code",
   "execution_count": null,
   "metadata": {},
   "outputs": [],
   "source": [
    "list_ = []\n",
    "for id in result_pronomen[\"Songs22\"].keys():\n",
    "    list_.append(str(result_pronomen[\"Songs22\"][id].keys()))\n",
    "list_"
   ]
  },
  {
   "cell_type": "code",
   "execution_count": null,
   "metadata": {},
   "outputs": [],
   "source": [
    "freq = Counter(list_)\n",
    "freq"
   ]
  },
  {
   "cell_type": "code",
   "execution_count": 191,
   "metadata": {},
   "outputs": [],
   "source": [
    "df = pd.read_json('Pronomen_sortiert.json')\n",
    "df.to_csv('PRONOMEN.csv')"
   ]
  },
  {
   "cell_type": "code",
   "execution_count": 15,
   "metadata": {},
   "outputs": [],
   "source": [
    "d=pd.read_csv('PRONOMEN.csv')\n",
    "d=d.pop('Prototyp')\n",
    "d.to_csv('PRONOMEN_neu.csv')"
   ]
  },
  {
   "cell_type": "code",
   "execution_count": 16,
   "metadata": {},
   "outputs": [],
   "source": [
    "\n",
    "PD= pd.json_normalize(df['Prototyp'])\n",
    "PD1= pd.json_normalize(df['Songs90er'])\n",
    "PD2= pd.json_normalize(df['Songs22'])\n"
   ]
  },
  {
   "cell_type": "code",
   "execution_count": null,
   "metadata": {},
   "outputs": [],
   "source": [
    "print()"
   ]
  },
  {
   "cell_type": "code",
   "execution_count": null,
   "metadata": {},
   "outputs": [],
   "source": [
    "##JSON IN CSV umgewandelt \n",
    "\n",
    "df1 = pd.read_json('Liste_Pronomen.json')\n",
    "df1.to_csv('PRONOMEN_L.csv')\n",
    "\n",
    "df2 = pd.read_json('Nomen_sortiert.json')\n",
    "df2.to_csv('Nomen_L.csv')"
   ]
  }
 ],
 "metadata": {
  "kernelspec": {
   "display_name": "Python 3",
   "language": "python",
   "name": "python3"
  },
  "language_info": {
   "codemirror_mode": {
    "name": "ipython",
    "version": 3
   },
   "file_extension": ".py",
   "mimetype": "text/x-python",
   "name": "python",
   "nbconvert_exporter": "python",
   "pygments_lexer": "ipython3",
   "version": "3.11.4"
  },
  "orig_nbformat": 4
 },
 "nbformat": 4,
 "nbformat_minor": 2
}
